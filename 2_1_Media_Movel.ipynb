{
  "cells": [
    {
      "cell_type": "code",
      "execution_count": 2,
      "metadata": {
        "colab": {
          "base_uri": "https://localhost:8080/"
        },
        "id": "50XueaO2WIY0",
        "outputId": "b0cc6123-a73f-4729-ebeb-6dcf623e62f9"
      },
      "outputs": [],
      "source": [
        "import io\n",
        "import glob\n",
        "import math\n",
        "\n",
        "import pandas as pd\n",
        "import numpy as np\n",
        "import seaborn as sn\n",
        "import matplotlib.pyplot as plt\n",
        "from matplotlib.pylab import rcParams\n",
        "\n",
        "\n",
        "from sklearn import metrics\n",
        "\n"
      ]
    },
    {
      "cell_type": "code",
      "execution_count": 3,
      "metadata": {
        "colab": {
          "base_uri": "https://localhost:8080/"
        },
        "id": "AIGUu-qAWdW2",
        "outputId": "43fdf111-6f4c-4d62-b757-a5914f05721d"
      },
      "outputs": [
        {
          "name": "stderr",
          "output_type": "stream",
          "text": [
            "c:\\Users\\Bruno\\AppData\\Local\\Programs\\Python\\Python311\\Lib\\site-packages\\numpy\\core\\fromnumeric.py:59: FutureWarning: 'DataFrame.swapaxes' is deprecated and will be removed in a future version. Please use 'DataFrame.transpose' instead.\n",
            "  return bound(*args, **kwds)\n"
          ]
        },
        {
          "data": {
            "text/plain": [
              "(            CasosDia\n",
              " Data                \n",
              " 2020-03-15         3\n",
              " 2020-03-16         3\n",
              " 2020-03-17         3\n",
              " 2020-03-18         1\n",
              " 2020-03-19         0\n",
              " ...              ...\n",
              " 2023-03-14        27\n",
              " 2023-03-15        26\n",
              " 2023-03-16        13\n",
              " 2023-03-17        23\n",
              " 2023-03-18        16\n",
              " \n",
              " [1099 rows x 1 columns],\n",
              "             CasosDia\n",
              " Data                \n",
              " 2023-03-19         1\n",
              " 2023-03-20        24\n",
              " 2023-03-21        24\n",
              " 2023-03-22        29\n",
              " 2023-03-23        18\n",
              " ...              ...\n",
              " 2023-09-24         0\n",
              " 2023-09-25        13\n",
              " 2023-09-26        14\n",
              " 2023-09-27        17\n",
              " 2023-09-28         2\n",
              " \n",
              " [194 rows x 1 columns])"
            ]
          },
          "execution_count": 3,
          "metadata": {},
          "output_type": "execute_result"
        }
      ],
      "source": [
        "data = pd.read_csv(\"planilhas/dfRegressaoDias.csv\", sep=';', parse_dates=['Data'], index_col=\"Data\")\n",
        "\n",
        "train, test = np.split(data, [int(.85*len(data))])\n",
        "\n",
        "train, test"
      ]
    },
    {
      "cell_type": "code",
      "execution_count": 8,
      "metadata": {
        "colab": {
          "base_uri": "https://localhost:8080/"
        },
        "id": "hbyA0RB-W7-x",
        "outputId": "8a40800e-8688-49fa-da99-11a0e9181eb5"
      },
      "outputs": [
        {
          "name": "stdout",
          "output_type": "stream",
          "text": [
            "[ 0.  0.  0. ... 14. 17.  2.]\n",
            "[14.375      16.125      15.         14.5        12.125      11.5\n",
            " 10.875       9.625      11.5        14.125      15.25       16.25\n",
            " 16.625      15.5        15.375      18.125      18.375      16.\n",
            " 14.125      12.5        11.75       11.5        12.5        10.5\n",
            "  9.25        8.75        7.75        6.          5.25        7.75\n",
            "  7.875       9.         10.375      10.         10.25       10.25\n",
            " 11.125       9.625       9.5         8.5         7.625       6.625\n",
            "  6.75        7.5         8.875       8.25        8.25        8.\n",
            "  6.5         6.375       6.75        6.875       5.625       6.5\n",
            "  6.25        5.75        5.625       6.75        6.25        6.375\n",
            "  6.375       5.5         4.75        4.875       5.625       5.125\n",
            "  5.25        4.375       3.5         2.875       2.75        2.875\n",
            "  2.625       2.625       2.125       2.125       2.125       2.125\n",
            "  2.75        2.625       2.375       2.          2.375       2.125\n",
            "  1.875       2.125       1.5         1.625       1.5         1.25\n",
            "  0.875       0.875       1.125       1.25        1.375       1.125\n",
            "  1.125       1.          1.125       1.375       1.125       1.\n",
            "  1.375       1.375       1.375       1.375       1.375       1.375\n",
            "  1.375       1.125       0.75        0.75        0.625       0.875\n",
            "  0.75        0.5         0.75        0.875       0.75        0.625\n",
            "  0.75        0.5         0.625       0.625       0.875       0.75\n",
            "  0.75        1.125       1.375       1.375       1.375       1.5\n",
            "  1.          1.          1.5         1.125       1.          1.125\n",
            "  1.125       1.          1.          1.25        0.875       1.125\n",
            "  1.          1.          0.875       0.875       1.125       1.125\n",
            "  1.125       1.125       1.5         1.5         1.5         1.75\n",
            "  1.875       2.125       2.375       2.875       2.5         2.5\n",
            "  3.125       3.          2.625       2.125       1.875       1.25\n",
            "  1.25        1.875       2.625       3.875       5.125       6.125\n",
            "  6.125       6.125       8.375       8.375       7.5         8.875\n",
            "  9.375       8.625       8.5        10.          9.375      10.75\n",
            " 10.5         8.85714245  8.          9.19999981 11.5        11.\n",
            "  9.5         2.        ] 194 194\n",
            "MEAN ABSOLUTE ERROR = 2.9869477183548447\n",
            "MEAN SQUARED ERROR = 21.180468326217873\n",
            "ROOT MEAN SQUARED ERROR = 4.602224280303805\n"
          ]
        }
      ],
      "source": [
        "optimal_n = None\n",
        "best_mse = None\n",
        "\n",
        "db = data[['CasosDia']].values.astype('float32')\n",
        "\n",
        "mean_results_for_all_possible_n_values = np.zeros(int(len(db) / 8 - 2))\n",
        "\n",
        "for n in range(3, int(len(db) / 8 + 1)): #goes from 3 to 19\n",
        "  mean_for_n = np.zeros(len(db) - n)\n",
        "  for i in range(0, len(db) - n):\n",
        "    mean_for_n[i] = np.power(np.mean(db[:, 0][i:i+n]) - db[i + n][0], 2)\n",
        "  mean_results_for_all_possible_n_values[n - 3] = np.mean(mean_for_n)\n",
        "\n",
        "optimal_n = np.argmin(mean_results_for_all_possible_n_values) + 3\n",
        "best_mse = np.min(mean_results_for_all_possible_n_values)\n",
        "\n",
        "#print(\"MSE = %s\" % mean_results_for_all_possible_n_values)\n",
        "#print(\"Melhor MSE = %s\" % best_mse)\n",
        "#print(\"Otimo n = %s\" % optimal_n)\n",
        "\n",
        "forecast = np.zeros(len(db))\n",
        "\n",
        "for i in range(0,len(train)):\n",
        "  forecast[i] == None\n",
        "\n",
        "for i in range(len(train), len(db)):\n",
        "  forecast[i] = db[i][0]\n",
        "\n",
        "print(forecast)\n",
        "\n",
        "for i in range(0, len(forecast)):\n",
        "  forecast[i] = np.mean(db[:, 0][i:i+optimal_n])\n",
        "\n",
        "future_forecast = forecast[len(train):]\n",
        "print(future_forecast, len(future_forecast), len(test))\n",
        "\n",
        "# plt.plot(db, color='red', label = 'Casos reais')\n",
        "# plt.plot(future_forecast, color='blue', label = 'Casos previstos')\n",
        "# plt.legend()\n",
        "# plt.show()\n",
        "\n",
        "\n",
        "mae_media_movel = metrics.mean_absolute_error(test['CasosDia'], future_forecast)\n",
        "mse_media_movel = metrics.mean_squared_error(test['CasosDia'], future_forecast)\n",
        "print(\"MEAN ABSOLUTE ERROR =\", mae_media_movel)\n",
        "print(\"MEAN SQUARED ERROR =\", mse_media_movel)\n",
        "import math\n",
        "rmse_media_movel = math.sqrt(mse_media_movel)\n",
        "print(\"ROOT MEAN SQUARED ERROR =\", rmse_media_movel)"
      ]
    },
    {
      "cell_type": "code",
      "execution_count": null,
      "metadata": {},
      "outputs": [],
      "source": []
    },
    {
      "cell_type": "code",
      "execution_count": 5,
      "metadata": {
        "colab": {
          "base_uri": "https://localhost:8080/"
        },
        "id": "XvafwDHLW-2x",
        "outputId": "1f208873-e3b3-45ed-c6ad-24c2181f9745"
      },
      "outputs": [
        {
          "name": "stdout",
          "output_type": "stream",
          "text": [
            "            CasosDia  Forecast\n",
            "Data                          \n",
            "2023-03-19         1    14.375\n",
            "2023-03-20        24    16.125\n",
            "2023-03-21        24    15.000\n",
            "2023-03-22        29    14.500\n",
            "2023-03-23        18    12.125\n",
            "...              ...       ...\n",
            "2023-09-24         0     9.200\n",
            "2023-09-25        13    11.500\n",
            "2023-09-26        14    11.000\n",
            "2023-09-27        17     9.500\n",
            "2023-09-28         2     2.000\n",
            "\n",
            "[194 rows x 2 columns]\n",
            "------ RESULTADOS ------\n",
            "MSE:  21.180468326217873\n",
            "MAE:  2.9869477183548447\n",
            "RMSE:  4.602224280303805\n",
            "   PARAMS        MSE       MAE      RMSE\n",
            "0       8  21.180468  2.986948  4.602224\n"
          ]
        }
      ],
      "source": [
        "from sklearn.metrics import mean_absolute_error, mean_squared_error, mean_absolute_error\n",
        "\n",
        "# SAVE DF WITH FORECAST AND REAL\n",
        "df_real_forecast = pd.DataFrame(test['CasosDia'])\n",
        "# df_real_forecast = df_real_forecast.assign(Qtde_Casos=y_test)\n",
        "df_real_forecast = df_real_forecast.assign(Forecast=future_forecast)\n",
        "print(df_real_forecast)\n",
        "\n",
        "df_real_forecast.to_csv('resultadosModelos/MediaMovelAngelo', sep=';', index=False)\n",
        "\n",
        "mse = mean_squared_error(df_real_forecast['Forecast'], df_real_forecast['CasosDia'])\n",
        "mae = mean_absolute_error(df_real_forecast['Forecast'], df_real_forecast['CasosDia'])\n",
        "rmse = math.sqrt(mse)\n",
        "\n",
        "print('------ RESULTADOS ------')\n",
        "# print('PARAMETROS: ', rf_rmse_params)\n",
        "print('MSE: ', mse)\n",
        "print('MAE: ', mae)\n",
        "print('RMSE: ', rmse)\n",
        "\n",
        "# SAVE DF WITH METRICS AND PARAMS\n",
        "mm_metrics = pd.DataFrame()\n",
        "mm_metrics = mm_metrics.assign(PARAMS=[optimal_n])\n",
        "mm_metrics = mm_metrics.assign(MSE=mse)\n",
        "mm_metrics = mm_metrics.assign(MAE=mae)\n",
        "mm_metrics = mm_metrics.assign(RMSE=rmse)\n",
        "print(mm_metrics)\n",
        "mm_metrics.to_csv('resultadosModelos/metrics', sep=';', index=False)"
      ]
    },
    {
      "cell_type": "code",
      "execution_count": 6,
      "metadata": {
        "colab": {
          "base_uri": "https://localhost:8080/",
          "height": 565
        },
        "id": "5TcWBO26Zs3b",
        "outputId": "a6932522-d97c-44d4-a435-2f966a73e647"
      },
      "outputs": [
        {
          "ename": "KeyError",
          "evalue": "'Qtde_Casos'",
          "output_type": "error",
          "traceback": [
            "\u001b[1;31m---------------------------------------------------------------------------\u001b[0m",
            "\u001b[1;31mKeyError\u001b[0m                                  Traceback (most recent call last)",
            "File \u001b[1;32mc:\\Users\\Bruno\\AppData\\Local\\Programs\\Python\\Python311\\Lib\\site-packages\\pandas\\core\\indexes\\base.py:3790\u001b[0m, in \u001b[0;36mIndex.get_loc\u001b[1;34m(self, key)\u001b[0m\n\u001b[0;32m   3789\u001b[0m \u001b[38;5;28;01mtry\u001b[39;00m:\n\u001b[1;32m-> 3790\u001b[0m     \u001b[38;5;28;01mreturn\u001b[39;00m \u001b[38;5;28;43mself\u001b[39;49m\u001b[38;5;241;43m.\u001b[39;49m\u001b[43m_engine\u001b[49m\u001b[38;5;241;43m.\u001b[39;49m\u001b[43mget_loc\u001b[49m\u001b[43m(\u001b[49m\u001b[43mcasted_key\u001b[49m\u001b[43m)\u001b[49m\n\u001b[0;32m   3791\u001b[0m \u001b[38;5;28;01mexcept\u001b[39;00m \u001b[38;5;167;01mKeyError\u001b[39;00m \u001b[38;5;28;01mas\u001b[39;00m err:\n",
            "File \u001b[1;32mindex.pyx:152\u001b[0m, in \u001b[0;36mpandas._libs.index.IndexEngine.get_loc\u001b[1;34m()\u001b[0m\n",
            "File \u001b[1;32mindex.pyx:181\u001b[0m, in \u001b[0;36mpandas._libs.index.IndexEngine.get_loc\u001b[1;34m()\u001b[0m\n",
            "File \u001b[1;32mpandas\\_libs\\hashtable_class_helper.pxi:7080\u001b[0m, in \u001b[0;36mpandas._libs.hashtable.PyObjectHashTable.get_item\u001b[1;34m()\u001b[0m\n",
            "File \u001b[1;32mpandas\\_libs\\hashtable_class_helper.pxi:7088\u001b[0m, in \u001b[0;36mpandas._libs.hashtable.PyObjectHashTable.get_item\u001b[1;34m()\u001b[0m\n",
            "\u001b[1;31mKeyError\u001b[0m: 'Qtde_Casos'",
            "\nThe above exception was the direct cause of the following exception:\n",
            "\u001b[1;31mKeyError\u001b[0m                                  Traceback (most recent call last)",
            "Cell \u001b[1;32mIn[6], line 4\u001b[0m\n\u001b[0;32m      1\u001b[0m \u001b[38;5;66;03m# PLOT FORECAST PERIOD\u001b[39;00m\n\u001b[0;32m      2\u001b[0m rcParams[\u001b[38;5;124m'\u001b[39m\u001b[38;5;124mfigure.figsize\u001b[39m\u001b[38;5;124m'\u001b[39m] \u001b[38;5;241m=\u001b[39m \u001b[38;5;241m15\u001b[39m,\u001b[38;5;241m6\u001b[39m\n\u001b[1;32m----> 4\u001b[0m casos_reais \u001b[38;5;241m=\u001b[39m \u001b[43mdf_real_forecast\u001b[49m\u001b[43m[\u001b[49m\u001b[38;5;124;43m'\u001b[39;49m\u001b[38;5;124;43mQtde_Casos\u001b[39;49m\u001b[38;5;124;43m'\u001b[39;49m\u001b[43m]\u001b[49m\n\u001b[0;32m      5\u001b[0m forecast \u001b[38;5;241m=\u001b[39m df_real_forecast[\u001b[38;5;124m'\u001b[39m\u001b[38;5;124mForecast\u001b[39m\u001b[38;5;124m'\u001b[39m]\n\u001b[0;32m      7\u001b[0m plt\u001b[38;5;241m.\u001b[39mplot(casos_reais, color\u001b[38;5;241m=\u001b[39m\u001b[38;5;124m'\u001b[39m\u001b[38;5;124mred\u001b[39m\u001b[38;5;124m'\u001b[39m, label\u001b[38;5;241m=\u001b[39m\u001b[38;5;124m'\u001b[39m\u001b[38;5;124mCasos reais\u001b[39m\u001b[38;5;124m'\u001b[39m)\n",
            "File \u001b[1;32mc:\\Users\\Bruno\\AppData\\Local\\Programs\\Python\\Python311\\Lib\\site-packages\\pandas\\core\\frame.py:3896\u001b[0m, in \u001b[0;36mDataFrame.__getitem__\u001b[1;34m(self, key)\u001b[0m\n\u001b[0;32m   3894\u001b[0m \u001b[38;5;28;01mif\u001b[39;00m \u001b[38;5;28mself\u001b[39m\u001b[38;5;241m.\u001b[39mcolumns\u001b[38;5;241m.\u001b[39mnlevels \u001b[38;5;241m>\u001b[39m \u001b[38;5;241m1\u001b[39m:\n\u001b[0;32m   3895\u001b[0m     \u001b[38;5;28;01mreturn\u001b[39;00m \u001b[38;5;28mself\u001b[39m\u001b[38;5;241m.\u001b[39m_getitem_multilevel(key)\n\u001b[1;32m-> 3896\u001b[0m indexer \u001b[38;5;241m=\u001b[39m \u001b[38;5;28;43mself\u001b[39;49m\u001b[38;5;241;43m.\u001b[39;49m\u001b[43mcolumns\u001b[49m\u001b[38;5;241;43m.\u001b[39;49m\u001b[43mget_loc\u001b[49m\u001b[43m(\u001b[49m\u001b[43mkey\u001b[49m\u001b[43m)\u001b[49m\n\u001b[0;32m   3897\u001b[0m \u001b[38;5;28;01mif\u001b[39;00m is_integer(indexer):\n\u001b[0;32m   3898\u001b[0m     indexer \u001b[38;5;241m=\u001b[39m [indexer]\n",
            "File \u001b[1;32mc:\\Users\\Bruno\\AppData\\Local\\Programs\\Python\\Python311\\Lib\\site-packages\\pandas\\core\\indexes\\base.py:3797\u001b[0m, in \u001b[0;36mIndex.get_loc\u001b[1;34m(self, key)\u001b[0m\n\u001b[0;32m   3792\u001b[0m     \u001b[38;5;28;01mif\u001b[39;00m \u001b[38;5;28misinstance\u001b[39m(casted_key, \u001b[38;5;28mslice\u001b[39m) \u001b[38;5;129;01mor\u001b[39;00m (\n\u001b[0;32m   3793\u001b[0m         \u001b[38;5;28misinstance\u001b[39m(casted_key, abc\u001b[38;5;241m.\u001b[39mIterable)\n\u001b[0;32m   3794\u001b[0m         \u001b[38;5;129;01mand\u001b[39;00m \u001b[38;5;28many\u001b[39m(\u001b[38;5;28misinstance\u001b[39m(x, \u001b[38;5;28mslice\u001b[39m) \u001b[38;5;28;01mfor\u001b[39;00m x \u001b[38;5;129;01min\u001b[39;00m casted_key)\n\u001b[0;32m   3795\u001b[0m     ):\n\u001b[0;32m   3796\u001b[0m         \u001b[38;5;28;01mraise\u001b[39;00m InvalidIndexError(key)\n\u001b[1;32m-> 3797\u001b[0m     \u001b[38;5;28;01mraise\u001b[39;00m \u001b[38;5;167;01mKeyError\u001b[39;00m(key) \u001b[38;5;28;01mfrom\u001b[39;00m \u001b[38;5;21;01merr\u001b[39;00m\n\u001b[0;32m   3798\u001b[0m \u001b[38;5;28;01mexcept\u001b[39;00m \u001b[38;5;167;01mTypeError\u001b[39;00m:\n\u001b[0;32m   3799\u001b[0m     \u001b[38;5;66;03m# If we have a listlike key, _check_indexing_error will raise\u001b[39;00m\n\u001b[0;32m   3800\u001b[0m     \u001b[38;5;66;03m#  InvalidIndexError. Otherwise we fall through and re-raise\u001b[39;00m\n\u001b[0;32m   3801\u001b[0m     \u001b[38;5;66;03m#  the TypeError.\u001b[39;00m\n\u001b[0;32m   3802\u001b[0m     \u001b[38;5;28mself\u001b[39m\u001b[38;5;241m.\u001b[39m_check_indexing_error(key)\n",
            "\u001b[1;31mKeyError\u001b[0m: 'Qtde_Casos'"
          ]
        }
      ],
      "source": [
        "# PLOT FORECAST PERIOD\n",
        "rcParams['figure.figsize'] = 15,6\n",
        "\n",
        "casos_reais = df_real_forecast['Qtde_Casos']\n",
        "forecast = df_real_forecast['Forecast']\n",
        "\n",
        "plt.plot(casos_reais, color='red', label='Casos reais')\n",
        "plt.plot(forecast, color='blue', label='Casos previstos')\n",
        "plt.title('Predição de casos de dengue - Média Móvel')\n",
        "plt.xlabel('Tempo')\n",
        "plt.ylabel('Casos de dengue')\n",
        "plt.legend()\n",
        "plt.show\n",
        "plt.savefig('/content/drive/My Drive/Artigo Reciis/Graficos/MM_monthly_1.png', dpi=300, bbox_inches='tight')"
      ]
    },
    {
      "cell_type": "code",
      "execution_count": null,
      "metadata": {
        "colab": {
          "base_uri": "https://localhost:8080/",
          "height": 565
        },
        "id": "U0gfOnYXZuXU",
        "outputId": "5076b4aa-602f-4df1-bb56-ec657da9cbf2"
      },
      "outputs": [
        {
          "data": {
            "image/png": "[encoded data removed]",
            "text/plain": [
              "<Figure size 1500x600 with 1 Axes>"
            ]
          },
          "metadata": {},
          "output_type": "display_data"
        }
      ],
      "source": [
        "# PLOT FULL TIME SERIE\n",
        "rcParams['figure.figsize'] = 15,6\n",
        "\n",
        "plt.plot(data['Qtde_Casos'], color='red', label='Casos reais')\n",
        "plt.plot(forecast, color='blue', label='Casos previstos')\n",
        "plt.title('Predição de casos de dengue - Média Móvel')\n",
        "plt.xlabel('Tempo')\n",
        "plt.ylabel('Casos de dengue')\n",
        "plt.legend()\n",
        "plt.show\n",
        "plt.savefig('/content/drive/My Drive/Artigo Reciis/Graficos/MM_monthly_2.png', dpi=300, bbox_inches='tight')"
      ]
    }
  ],
  "metadata": {
    "colab": {
      "provenance": []
    },
    "kernelspec": {
      "display_name": "Python 3",
      "name": "python3"
    },
    "language_info": {
      "codemirror_mode": {
        "name": "ipython",
        "version": 3
      },
      "file_extension": ".py",
      "mimetype": "text/x-python",
      "name": "python",
      "nbconvert_exporter": "python",
      "pygments_lexer": "ipython3",
      "version": "3.11.5"
    }
  },
  "nbformat": 4,
  "nbformat_minor": 0
}
